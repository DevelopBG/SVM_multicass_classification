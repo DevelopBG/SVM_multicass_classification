{
 "cells": [
  {
   "cell_type": "code",
   "execution_count": 5,
   "metadata": {},
   "outputs": [],
   "source": [
    "import numpy as np\n",
    "import pylab as pl\n",
    "import pandas as pd\n",
    "import matplotlib.pyplot as plt \n",
    "%matplotlib inline\n",
    "import seaborn as sns\n",
    "from sklearn.utils import shuffle\n",
    "from sklearn.svm import SVC\n",
    "from sklearn.metrics import confusion_matrix,classification_report\n",
    "from sklearn.model_selection import cross_val_score, GridSearchCV"
   ]
  },
  {
   "cell_type": "code",
   "execution_count": 15,
   "metadata": {},
   "outputs": [
    {
     "data": {
      "text/html": [
       "<div>\n",
       "<style scoped>\n",
       "    .dataframe tbody tr th:only-of-type {\n",
       "        vertical-align: middle;\n",
       "    }\n",
       "\n",
       "    .dataframe tbody tr th {\n",
       "        vertical-align: top;\n",
       "    }\n",
       "\n",
       "    .dataframe thead th {\n",
       "        text-align: right;\n",
       "    }\n",
       "</style>\n",
       "<table border=\"1\" class=\"dataframe\">\n",
       "  <thead>\n",
       "    <tr style=\"text-align: right;\">\n",
       "      <th></th>\n",
       "      <th>Unnamed: 0</th>\n",
       "      <th>A</th>\n",
       "      <th>B</th>\n",
       "      <th>C</th>\n",
       "      <th>D</th>\n",
       "      <th>E</th>\n",
       "      <th>F</th>\n",
       "      <th>G</th>\n",
       "      <th>H</th>\n",
       "      <th>I</th>\n",
       "      <th>...</th>\n",
       "      <th>Y6</th>\n",
       "      <th>Y7</th>\n",
       "      <th>Y8</th>\n",
       "      <th>Y9</th>\n",
       "      <th>Z1</th>\n",
       "      <th>Z2</th>\n",
       "      <th>Z4</th>\n",
       "      <th>Z5</th>\n",
       "      <th>Z6</th>\n",
       "      <th>Class</th>\n",
       "    </tr>\n",
       "  </thead>\n",
       "  <tbody>\n",
       "    <tr>\n",
       "      <th>0</th>\n",
       "      <td>0</td>\n",
       "      <td>6</td>\n",
       "      <td>860.62</td>\n",
       "      <td>809.73</td>\n",
       "      <td>919.69</td>\n",
       "      <td>30.87</td>\n",
       "      <td>69.81</td>\n",
       "      <td>65.24</td>\n",
       "      <td>74.10</td>\n",
       "      <td>2.51</td>\n",
       "      <td>...</td>\n",
       "      <td>0.002757</td>\n",
       "      <td>-0.003582</td>\n",
       "      <td>0.000125</td>\n",
       "      <td>0.001961</td>\n",
       "      <td>-3.290000e-08</td>\n",
       "      <td>0.000346</td>\n",
       "      <td>0.000956</td>\n",
       "      <td>9.150000e-07</td>\n",
       "      <td>1.190000e-07</td>\n",
       "      <td>A</td>\n",
       "    </tr>\n",
       "    <tr>\n",
       "      <th>1</th>\n",
       "      <td>1</td>\n",
       "      <td>7</td>\n",
       "      <td>871.58</td>\n",
       "      <td>789.74</td>\n",
       "      <td>929.69</td>\n",
       "      <td>32.82</td>\n",
       "      <td>68.94</td>\n",
       "      <td>64.54</td>\n",
       "      <td>75.97</td>\n",
       "      <td>2.65</td>\n",
       "      <td>...</td>\n",
       "      <td>0.002757</td>\n",
       "      <td>-0.002944</td>\n",
       "      <td>0.000131</td>\n",
       "      <td>0.001932</td>\n",
       "      <td>-3.290000e-08</td>\n",
       "      <td>0.000358</td>\n",
       "      <td>0.000888</td>\n",
       "      <td>7.880000e-07</td>\n",
       "      <td>1.280000e-07</td>\n",
       "      <td>A</td>\n",
       "    </tr>\n",
       "    <tr>\n",
       "      <th>2</th>\n",
       "      <td>2</td>\n",
       "      <td>6</td>\n",
       "      <td>854.87</td>\n",
       "      <td>789.74</td>\n",
       "      <td>929.69</td>\n",
       "      <td>32.38</td>\n",
       "      <td>70.29</td>\n",
       "      <td>64.54</td>\n",
       "      <td>75.97</td>\n",
       "      <td>2.66</td>\n",
       "      <td>...</td>\n",
       "      <td>0.003168</td>\n",
       "      <td>-0.002944</td>\n",
       "      <td>0.000125</td>\n",
       "      <td>0.001628</td>\n",
       "      <td>-3.290000e-08</td>\n",
       "      <td>0.000339</td>\n",
       "      <td>0.000875</td>\n",
       "      <td>7.660000e-07</td>\n",
       "      <td>1.150000e-07</td>\n",
       "      <td>A</td>\n",
       "    </tr>\n",
       "    <tr>\n",
       "      <th>3</th>\n",
       "      <td>3</td>\n",
       "      <td>7</td>\n",
       "      <td>823.73</td>\n",
       "      <td>759.75</td>\n",
       "      <td>879.71</td>\n",
       "      <td>29.19</td>\n",
       "      <td>72.93</td>\n",
       "      <td>68.20</td>\n",
       "      <td>78.97</td>\n",
       "      <td>2.58</td>\n",
       "      <td>...</td>\n",
       "      <td>0.003168</td>\n",
       "      <td>-0.002490</td>\n",
       "      <td>0.000116</td>\n",
       "      <td>0.001572</td>\n",
       "      <td>-3.290000e-08</td>\n",
       "      <td>0.000308</td>\n",
       "      <td>0.000856</td>\n",
       "      <td>7.330000e-07</td>\n",
       "      <td>9.480000e-08</td>\n",
       "      <td>A</td>\n",
       "    </tr>\n",
       "  </tbody>\n",
       "</table>\n",
       "<p>4 rows × 43 columns</p>\n",
       "</div>"
      ],
      "text/plain": [
       "   Unnamed: 0  A       B       C       D      E      F      G      H     I  \\\n",
       "0           0  6  860.62  809.73  919.69  30.87  69.81  65.24  74.10  2.51   \n",
       "1           1  7  871.58  789.74  929.69  32.82  68.94  64.54  75.97  2.65   \n",
       "2           2  6  854.87  789.74  929.69  32.38  70.29  64.54  75.97  2.66   \n",
       "3           3  7  823.73  759.75  879.71  29.19  72.93  68.20  78.97  2.58   \n",
       "\n",
       "   ...        Y6        Y7        Y8        Y9            Z1        Z2  \\\n",
       "0  ...  0.002757 -0.003582  0.000125  0.001961 -3.290000e-08  0.000346   \n",
       "1  ...  0.002757 -0.002944  0.000131  0.001932 -3.290000e-08  0.000358   \n",
       "2  ...  0.003168 -0.002944  0.000125  0.001628 -3.290000e-08  0.000339   \n",
       "3  ...  0.003168 -0.002490  0.000116  0.001572 -3.290000e-08  0.000308   \n",
       "\n",
       "         Z4            Z5            Z6  Class  \n",
       "0  0.000956  9.150000e-07  1.190000e-07      A  \n",
       "1  0.000888  7.880000e-07  1.280000e-07      A  \n",
       "2  0.000875  7.660000e-07  1.150000e-07      A  \n",
       "3  0.000856  7.330000e-07  9.480000e-08      A  \n",
       "\n",
       "[4 rows x 43 columns]"
      ]
     },
     "execution_count": 15,
     "metadata": {},
     "output_type": "execute_result"
    }
   ],
   "source": [
    "# read fileusing pandas\n",
    "data=pd.read_csv(r'D:\\\\AI_ML_DL\\Data&Python_code\\DATA\\CSV_file\\Test_Data.csv')\n",
    "data.head(4)"
   ]
  },
  {
   "cell_type": "code",
   "execution_count": 7,
   "metadata": {},
   "outputs": [
    {
     "data": {
      "text/plain": [
       "(5840, 42)"
      ]
     },
     "execution_count": 7,
     "metadata": {},
     "output_type": "execute_result"
    }
   ],
   "source": [
    "#using origianl dataset\n",
    "t1=np.genfromtxt(r'D:\\\\AI_ML_DL\\Data&Python_code\\DATA\\CSV_file\\Test_Data.csv', delimiter=\",\")\n",
    "t2=t1[1:,1:42]\n",
    "np.shape(t1)\n"
   ]
  },
  {
   "cell_type": "code",
   "execution_count": 28,
   "metadata": {},
   "outputs": [
    {
     "data": {
      "text/plain": [
       "<matplotlib.axes._subplots.AxesSubplot at 0xb629978>"
      ]
     },
     "execution_count": 28,
     "metadata": {},
     "output_type": "execute_result"
    },
    {
     "data": {
      "image/png": "[encoded data removed]",
      "text/plain": [
       "<Figure size 432x288 with 1 Axes>"
      ]
     },
     "metadata": {
      "needs_background": "light"
     },
     "output_type": "display_data"
    }
   ],
   "source": [
    "import seaborn as sns\n",
    "y=pd.read_csv(r'D:\\\\AI_ML_DL\\Data&Python_code\\DATA\\CSV_file\\Test_Data.csv')\n",
    "sns.countplot(x='Class', data=y)"
   ]
  },
  {
   "cell_type": "code",
   "execution_count": 1,
   "metadata": {},
   "outputs": [],
   "source": [
    "import numpy as np\n",
    "import pylab as pl\n",
    "import pandas as pd\n",
    "import matplotlib.pyplot as plt \n",
    "%matplotlib inline\n",
    "import seaborn as sns\n",
    "from sklearn.utils import shuffle\n",
    "from sklearn.svm import SVC\n",
    "from sklearn.metrics import confusion_matrix,classification_report\n",
    "from sklearn.model_selection import cross_val_score, GridSearchCV"
   ]
  },
  {
   "cell_type": "code",
   "execution_count": 2,
   "metadata": {},
   "outputs": [],
   "source": [
    "from sklearn.model_selection import train_test_split\n",
    "y=pd.read_csv(r'D:\\\\AI_ML_DL\\Data&Python_code\\DATA\\CSV_file\\Test_Data.csv')"
   ]
  },
  {
   "cell_type": "code",
   "execution_count": 3,
   "metadata": {},
   "outputs": [
    {
     "name": "stdout",
     "output_type": "stream",
     "text": [
      "col_0  count\n",
      "Class       \n",
      "A       1052\n",
      "B       1163\n",
      "C       1694\n",
      "D        202\n",
      "E       1029\n",
      "F        699\n"
     ]
    }
   ],
   "source": [
    "train_outcome = pd.crosstab(index=y[\"Class\"],columns=\"count\")\n",
    "print(train_outcome)"
   ]
  },
  {
   "cell_type": "code",
   "execution_count": 4,
   "metadata": {},
   "outputs": [
    {
     "name": "stdout",
     "output_type": "stream",
     "text": [
      "(5839, 41)\n",
      "(5839,)\n"
     ]
    }
   ],
   "source": [
    "p=y.drop('Class',axis=1)\n",
    "y1=y['Class']\n",
    "print(p.shape)\n",
    "print(y1.shape)\n",
    "\n",
    "X_train, X_test, y_train, y_test = train_test_split(p, y1, test_size = 0.20)"
   ]
  },
  {
   "cell_type": "code",
   "execution_count": 8,
   "metadata": {},
   "outputs": [
    {
     "name": "stdout",
     "output_type": "stream",
     "text": [
      "Dimension of Train set (4671, 41)\n",
      "Dimension of Test set (1168, 41) \n",
      "\n",
      "Dimension of Test set (1168,) \n",
      "\n",
      "Number of numeric features: 41\n"
     ]
    }
   ],
   "source": [
    "print(\"Dimension of Train set\",X_train.shape)\n",
    "print(\"Dimension of Test set\",X_test.shape,\"\\n\")\n",
    "print(\"Dimension of Test set\",y_test.shape,\"\\n\")\n",
    "from sklearn import preprocessing\n",
    "encoder = preprocessing.LabelEncoder()\n",
    "# encoding train labels \n",
    "encoder.fit(y_train)\n",
    "Y_train = encoder.transform(y_train)\n",
    "\n",
    "# encoding test labels \n",
    "encoder.fit(y_test)\n",
    "Y_test = encoder.transform(y_test)\n",
    "\n",
    "#Total Number of Continous and Categorical features in the training set\n",
    "num_cols = X_train._get_numeric_data().columns\n",
    "print(\"Number of numeric features:\",num_cols.size)\n",
    "\n",
    "#list(set(X_train.columns) - set(num_cols))\n",
    "\n",
    "\n",
    "names_of_predictors = list(X_train.columns.values)"
   ]
  },
  {
   "cell_type": "code",
   "execution_count": 25,
   "metadata": {},
   "outputs": [],
   "source": [
    "\n",
    "# Scaling the Train and Test feature set \n",
    "from sklearn.preprocessing import StandardScaler\n",
    "scaler = StandardScaler()\n",
    "X_train_scaled = scaler.fit_transform(X_train)\n",
    "X_test_scaled = scaler.transform(X_test,copy=None)"
   ]
  },
  {
   "cell_type": "code",
   "execution_count": 10,
   "metadata": {},
   "outputs": [],
   "source": [
    "params_grid = [{'kernel': ['rbf'], 'gamma': [1e-3, 1e-4],\n",
    "                     'C': [1, 10, 100, 1000]},\n",
    "                    {'kernel': ['linear'], 'C': [1, 10, 100, 1000]}]"
   ]
  },
  {
   "cell_type": "code",
   "execution_count": 11,
   "metadata": {},
   "outputs": [
    {
     "data": {
      "text/plain": [
       "GridSearchCV(cv=5, error_score='raise-deprecating',\n",
       "             estimator=SVC(C=1.0, cache_size=200, class_weight=None, coef0=0.0,\n",
       "                           decision_function_shape='ovr', degree=3,\n",
       "                           gamma='auto_deprecated', kernel='rbf', max_iter=-1,\n",
       "                           probability=False, random_state=None, shrinking=True,\n",
       "                           tol=0.001, verbose=False),\n",
       "             iid='warn', n_jobs=None,\n",
       "             param_grid=[{'C': [1, 10, 100, 1000], 'gamma': [0.001, 0.0001],\n",
       "                          'kernel': ['rbf']},\n",
       "                         {'C': [1, 10, 100, 1000], 'kernel': ['linear']}],\n",
       "             pre_dispatch='2*n_jobs', refit=True, return_train_score=False,\n",
       "             scoring=None, verbose=0)"
      ]
     },
     "execution_count": 11,
     "metadata": {},
     "output_type": "execute_result"
    }
   ],
   "source": [
    "svm_model = GridSearchCV(SVC(), params_grid, cv=5)\n",
    "svm_model.fit(X_train_scaled, Y_train)"
   ]
  },
  {
   "cell_type": "code",
   "execution_count": 15,
   "metadata": {},
   "outputs": [
    {
     "name": "stdout",
     "output_type": "stream",
     "text": [
      "Best score for training data: 0.5457075572682509 \n",
      "\n",
      "Best C: 1000 \n",
      "\n",
      "Best Kernel: rbf \n",
      "\n",
      "Best Gamma: 0.001 \n",
      "\n"
     ]
    }
   ],
   "source": [
    "# View the accuracy score\n",
    "print('Best score for training data:', svm_model.best_score_,\"\\n\") \n",
    "\n",
    "# View the best parameters for the model found using grid search\n",
    "print('Best C:',svm_model.best_estimator_.C,\"\\n\") \n",
    "print('Best Kernel:',svm_model.best_estimator_.kernel,\"\\n\")\n",
    "print('Best Gamma:',svm_model.best_estimator_.gamma,\"\\n\")\n",
    "\n",
    "final_model = svm_model.best_estimator_\n",
    "Y_pred = final_model.predict(X_test_scaled)\n",
    "Y_pred_label = list(encoder.inverse_transform(Y_pred))\n",
    "\n"
   ]
  },
  {
   "cell_type": "code",
   "execution_count": 29,
   "metadata": {},
   "outputs": [
    {
     "name": "stdout",
     "output_type": "stream",
     "text": [
      "[[ 81  52  38   0   6  14]\n",
      " [ 49 100  63   1   8   5]\n",
      " [ 15  33 269   0  15   2]\n",
      " [  1   7  16  14  11   3]\n",
      " [ 17  22  35   7 139  12]\n",
      " [ 20   7  40   6   6  54]]\n",
      "\n",
      "\n",
      "              precision    recall  f1-score   support\n",
      "\n",
      "           0       0.44      0.42      0.43       191\n",
      "           1       0.45      0.44      0.45       226\n",
      "           2       0.58      0.81      0.68       334\n",
      "           3       0.50      0.27      0.35        52\n",
      "           4       0.75      0.60      0.67       232\n",
      "           5       0.60      0.41      0.48       133\n",
      "\n",
      "    accuracy                           0.56      1168\n",
      "   macro avg       0.55      0.49      0.51      1168\n",
      "weighted avg       0.57      0.56      0.55      1168\n",
      "\n",
      "Training set score for SVM: 0.633055\n",
      "Testing  set score for SVM: 0.562500\n"
     ]
    }
   ],
   "source": [
    "# Making the Confusion Matrix\n",
    "#print(pd.crosstab(Y_test_label, Y_pred_label, rownames=['Actual Activity'], colnames=['Predicted Activity']))\n",
    "print(confusion_matrix(Y_test,Y_pred))\n",
    "print(\"\\n\")\n",
    "print(classification_report(Y_test,Y_pred))\n",
    "\n",
    "print(\"Training set score for SVM: %f\" % final_model.score(X_train_scaled , Y_train))\n",
    "print(\"Testing  set score for SVM: %f\" % final_model.score(X_test_scaled  , Y_test ))\n",
    "\n",
    "svm_model.score"
   ]
  }
 ],
 "metadata": {
  "kernelspec": {
   "display_name": "Python 3",
   "language": "python",
   "name": "python3"
  },
  "language_info": {
   "codemirror_mode": {
    "name": "ipython",
    "version": 3
   },
   "file_extension": ".py",
   "mimetype": "text/x-python",
   "name": "python",
   "nbconvert_exporter": "python",
   "pygments_lexer": "ipython3",
   "version": "3.7.3"
  }
 },
 "nbformat": 4,
 "nbformat_minor": 2
}
